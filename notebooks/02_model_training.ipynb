{
 "cells": [
  {
   "cell_type": "code",
   "execution_count": 1,
   "metadata": {},
   "outputs": [],
   "source": [
    "import sys\n",
    "import os\n",
    "import torch\n",
    "import torch.nn as nn\n",
    "import torch.nn.functional as F\n",
    "import torch.optim as optim\n",
    "import time\n",
    "\n",
    "sys.path.append(os.path.abspath(\"../\")) \n",
    "\n",
    "from utils.data_utils import DeepFashionSubsetDataset\n",
    "from models.models import LargerShapeTextureNet\n",
    "from torchvision import transforms\n",
    "from torch.utils.data import DataLoader \n"
   ]
  },
  {
   "cell_type": "code",
   "execution_count": 2,
   "metadata": {},
   "outputs": [],
   "source": [
    "train_transform = transforms.Compose([\n",
    "    transforms.Resize((224, 224)),\n",
    "    transforms.RandomHorizontalFlip(),\n",
    "    transforms.ToTensor(),\n",
    "    transforms.Normalize(mean=[0.485, 0.456, 0.406],\n",
    "                         std =[0.229, 0.224, 0.225]),\n",
    "])\n",
    "\n",
    "val_transform = transforms.Compose([\n",
    "    transforms.Resize((224, 224)),\n",
    "    transforms.ToTensor(),\n",
    "    transforms.Normalize(mean=[0.485, 0.456, 0.406],\n",
    "                         std =[0.229, 0.224, 0.225]),\n",
    "])"
   ]
  },
  {
   "cell_type": "code",
   "execution_count": 4,
   "metadata": {},
   "outputs": [
    {
     "name": "stdout",
     "output_type": "stream",
     "text": [
      "Number of training samples:   6461\n",
      "Number of validation samples: 1300\n"
     ]
    }
   ],
   "source": [
    "train_csv = \"../data/smaller-subset/train/classification_metadata.csv\"\n",
    "train_img_folder = \"../data/smaller-subset/train/images\"\n",
    "\n",
    "val_csv = \"../data/smaller-subset/val/classification_metadata.csv\"\n",
    "val_img_folder = \"../data/smaller-subset/val/images\"\n",
    "\n",
    "train_dataset = DeepFashionSubsetDataset(\n",
    "    csv_file=train_csv,\n",
    "    images_folder=train_img_folder,\n",
    "    transform=train_transform,\n",
    "    use_bbox=True\n",
    ")\n",
    "\n",
    "val_dataset = DeepFashionSubsetDataset(\n",
    "    csv_file=val_csv,\n",
    "    images_folder=val_img_folder,\n",
    "    transform=val_transform,\n",
    "    use_bbox=True\n",
    ")\n",
    "\n",
    "batch_size = 32\n",
    "train_loader = DataLoader(train_dataset, batch_size=32, shuffle=True, num_workers=4)\n",
    "val_loader = DataLoader(val_dataset, batch_size=32, shuffle=False, num_workers=4)\n",
    "print(f\"Number of training samples:   {len(train_dataset)}\")\n",
    "print(f\"Number of validation samples: {len(val_dataset)}\")\n"
   ]
  },
  {
   "cell_type": "code",
   "execution_count": 5,
   "metadata": {},
   "outputs": [
    {
     "name": "stdout",
     "output_type": "stream",
     "text": [
      "Using device: cpu\n"
     ]
    }
   ],
   "source": [
    "device = torch.device(\"cuda\" if torch.cuda.is_available() else \"cpu\")\n",
    "print(\"Using device:\", device)\n",
    "model = LargerShapeTextureNet(num_classes=13)\n",
    "model = model.to(device)"
   ]
  },
  {
   "cell_type": "code",
   "execution_count": 6,
   "metadata": {},
   "outputs": [
    {
     "name": "stdout",
     "output_type": "stream",
     "text": [
      "Epoch [1/20] Train Loss: 2.5147 | Train Acc: 12.95% Val Loss: 2.4865 | Val Acc: 14.31% Time: 1710.45s\n",
      "Epoch [2/20] Train Loss: 2.4423 | Train Acc: 16.55% Val Loss: 2.4702 | Val Acc: 15.15% Time: 1621.87s\n",
      "Epoch [3/20] Train Loss: 2.3871 | Train Acc: 18.70% Val Loss: 2.4806 | Val Acc: 17.15% Time: 1795.25s\n",
      "Epoch [4/20] Train Loss: 2.3420 | Train Acc: 19.63% Val Loss: 2.4092 | Val Acc: 16.31% Time: 1597.40s\n",
      "Epoch [5/20] Train Loss: 2.2934 | Train Acc: 22.04% Val Loss: 2.3818 | Val Acc: 19.23% Time: 1582.01s\n",
      "Epoch [6/20] Train Loss: 2.2535 | Train Acc: 23.79% Val Loss: 2.3045 | Val Acc: 23.15% Time: 1431.06s\n",
      "Epoch [7/20] Train Loss: 2.2106 | Train Acc: 25.54% Val Loss: 2.4061 | Val Acc: 17.85% Time: 1545.03s\n",
      "Epoch [8/20] Train Loss: 2.1655 | Train Acc: 27.22% Val Loss: 2.3059 | Val Acc: 24.15% Time: 1483.90s\n",
      "Epoch [9/20] Train Loss: 2.1297 | Train Acc: 27.94% Val Loss: 2.2275 | Val Acc: 22.46% Time: 1421.44s\n",
      "Epoch [10/20] Train Loss: 2.0963 | Train Acc: 29.39% Val Loss: 2.1837 | Val Acc: 26.69% Time: 1559.44s\n",
      "Epoch [11/20] Train Loss: 2.0538 | Train Acc: 30.43% Val Loss: 2.3662 | Val Acc: 19.54% Time: 1533.25s\n",
      "Epoch [12/20] Train Loss: 2.0258 | Train Acc: 31.20% Val Loss: 2.2760 | Val Acc: 22.92% Time: 1498.08s\n",
      "Epoch [13/20] Train Loss: 1.9975 | Train Acc: 31.76% Val Loss: 2.2707 | Val Acc: 24.69% Time: 1484.73s\n",
      "Epoch [14/20] Train Loss: 1.9693 | Train Acc: 33.46% Val Loss: 2.1222 | Val Acc: 27.15% Time: 1462.06s\n",
      "Epoch [15/20] Train Loss: 1.9561 | Train Acc: 33.12% Val Loss: 2.0464 | Val Acc: 29.46% Time: 1467.50s\n",
      "Epoch [16/20] Train Loss: 1.9350 | Train Acc: 34.69% Val Loss: 2.1395 | Val Acc: 29.54% Time: 1470.66s\n",
      "Epoch [17/20] Train Loss: 1.9171 | Train Acc: 35.21% Val Loss: 2.2413 | Val Acc: 25.54% Time: 1508.42s\n",
      "Epoch [18/20] Train Loss: 1.8898 | Train Acc: 35.52% Val Loss: 2.0292 | Val Acc: 29.85% Time: 1439.31s\n",
      "Epoch [19/20] Train Loss: 1.8769 | Train Acc: 36.94% Val Loss: 2.0524 | Val Acc: 31.31% Time: 1449.95s\n",
      "Epoch [20/20] Train Loss: 1.8555 | Train Acc: 36.06% Val Loss: 2.0882 | Val Acc: 28.08% Time: 1420.28s\n"
     ]
    }
   ],
   "source": [
    "criterion = nn.CrossEntropyLoss()\n",
    "optimizer = optim.Adam(model.parameters(), lr=1e-4)\n",
    "NUM_EPOCHS = 20  # Adjust as needed\n",
    "\n",
    "def train_one_epoch(model, dataloader, optimizer, criterion, device):\n",
    "    model.train()\n",
    "    running_loss = 0.0\n",
    "    correct = 0\n",
    "    total = 0\n",
    "    \n",
    "    for images, labels in dataloader:\n",
    "        images, labels = images.to(device), labels.to(device)\n",
    "        \n",
    "        optimizer.zero_grad()\n",
    "        outputs = model(images)\n",
    "        loss = criterion(outputs, labels)\n",
    "        loss.backward()\n",
    "        optimizer.step()\n",
    "        \n",
    "        running_loss += loss.item() * images.size(0)\n",
    "        _, predicted = outputs.max(1)\n",
    "        correct += predicted.eq(labels).sum().item()\n",
    "        total += labels.size(0)\n",
    "    \n",
    "    epoch_loss = running_loss / total\n",
    "    epoch_acc = 100.0 * correct / total\n",
    "    return epoch_loss, epoch_acc\n",
    "\n",
    "def validate(model, dataloader, criterion, device):\n",
    "    model.eval()\n",
    "    running_loss = 0.0\n",
    "    correct = 0\n",
    "    total = 0\n",
    "    \n",
    "    with torch.no_grad():\n",
    "        for images, labels in dataloader:\n",
    "            images, labels = images.to(device), labels.to(device)\n",
    "            outputs = model(images)\n",
    "            loss = criterion(outputs, labels)\n",
    "            \n",
    "            running_loss += loss.item() * images.size(0)\n",
    "            _, predicted = outputs.max(1)\n",
    "            correct += predicted.eq(labels).sum().item()\n",
    "            total += labels.size(0)\n",
    "\n",
    "    epoch_loss = running_loss / total\n",
    "    epoch_acc = 100.0 * correct / total\n",
    "    return epoch_loss, epoch_acc\n",
    "\n",
    "train_history = []\n",
    "val_history = []\n",
    "\n",
    "for epoch in range(NUM_EPOCHS):\n",
    "    start_time = time.time()\n",
    "    \n",
    "    train_loss, train_acc = train_one_epoch(model, train_loader, optimizer, criterion, device)\n",
    "    val_loss, val_acc = validate(model, val_loader, criterion, device)\n",
    "    \n",
    "    train_history.append((train_loss, train_acc))\n",
    "    val_history.append((val_loss, val_acc))\n",
    "    \n",
    "    epoch_time = time.time() - start_time\n",
    "    print(f\"Epoch [{epoch+1}/{NUM_EPOCHS}] \"\n",
    "          f\"Train Loss: {train_loss:.4f} | Train Acc: {train_acc:.2f}% \"\n",
    "          f\"Val Loss: {val_loss:.4f} | Val Acc: {val_acc:.2f}% \"\n",
    "          f\"Time: {epoch_time:.2f}s\")\n"
   ]
  },
  {
   "cell_type": "code",
   "execution_count": null,
   "metadata": {},
   "outputs": [],
   "source": []
  }
 ],
 "metadata": {
  "kernelspec": {
   "display_name": "Python 3",
   "language": "python",
   "name": "python3"
  },
  "language_info": {
   "codemirror_mode": {
    "name": "ipython",
    "version": 3
   },
   "file_extension": ".py",
   "mimetype": "text/x-python",
   "name": "python",
   "nbconvert_exporter": "python",
   "pygments_lexer": "ipython3",
   "version": "3.11.11"
  },
  "orig_nbformat": 4,
  "vscode": {
   "interpreter": {
    "hash": "31f2aee4e71d21fbe5cf8b01ff0e069b9275f58929596ceb00d14d90e3e16cd6"
   }
  }
 },
 "nbformat": 4,
 "nbformat_minor": 2
}
